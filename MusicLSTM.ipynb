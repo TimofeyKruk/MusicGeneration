{
 "cells": [
  {
   "cell_type": "markdown",
   "metadata": {},
   "source": [
    "## File for investigations. Model is in MusicGenerator"
   ]
  },
  {
   "cell_type": "code",
   "execution_count": 1,
   "metadata": {},
   "outputs": [
    {
     "name": "stderr",
     "output_type": "stream",
     "text": [
      "Using TensorFlow backend.\n"
     ]
    }
   ],
   "source": [
    "from scipy.io.wavfile import read,write\n",
    "import matplotlib.pyplot as plt\n",
    "import librosa\n",
    "import librosa.display\n",
    "import IPython.display as ipd\n",
    "import numpy as np\n",
    "import pandas as pd\n",
    "import os\n",
    "from keras.models import Sequential,Model\n",
    "from keras.layers import Dense,LSTM,Flatten,Lambda,Reshape,Input,InputLayer\n",
    "import tensorflow as tf"
   ]
  },
  {
   "cell_type": "code",
   "execution_count": 2,
   "metadata": {},
   "outputs": [],
   "source": [
    "rate,song1=read(\"F:\\BSU_FAMCS\\Learning_Courses\\musicGenerator\\dataset\\WAV\\Billie Eilish - bury a friend_(mp3type.ru).wav\")"
   ]
  },
  {
   "cell_type": "code",
   "execution_count": 3,
   "metadata": {},
   "outputs": [
    {
     "data": {
      "text/plain": [
       "44100"
      ]
     },
     "execution_count": 3,
     "metadata": {},
     "output_type": "execute_result"
    }
   ],
   "source": [
    "rate"
   ]
  },
  {
   "cell_type": "code",
   "execution_count": 4,
   "metadata": {},
   "outputs": [
    {
     "data": {
      "text/plain": [
       "numpy.ndarray"
      ]
     },
     "execution_count": 4,
     "metadata": {},
     "output_type": "execute_result"
    }
   ],
   "source": [
    "type(song1)"
   ]
  },
  {
   "cell_type": "code",
   "execution_count": 5,
   "metadata": {},
   "outputs": [
    {
     "data": {
      "text/plain": [
       "(8517620, 2)"
      ]
     },
     "execution_count": 5,
     "metadata": {},
     "output_type": "execute_result"
    }
   ],
   "source": [
    "song1.shape"
   ]
  },
  {
   "cell_type": "code",
   "execution_count": 6,
   "metadata": {},
   "outputs": [],
   "source": [
    "sample_size=1000000\n",
    "song1pd=pd.DataFrame(song1[:sample_size,:])"
   ]
  },
  {
   "cell_type": "code",
   "execution_count": 7,
   "metadata": {},
   "outputs": [
    {
     "data": {
      "text/html": [
       "<div>\n",
       "<style scoped>\n",
       "    .dataframe tbody tr th:only-of-type {\n",
       "        vertical-align: middle;\n",
       "    }\n",
       "\n",
       "    .dataframe tbody tr th {\n",
       "        vertical-align: top;\n",
       "    }\n",
       "\n",
       "    .dataframe thead th {\n",
       "        text-align: right;\n",
       "    }\n",
       "</style>\n",
       "<table border=\"1\" class=\"dataframe\">\n",
       "  <thead>\n",
       "    <tr style=\"text-align: right;\">\n",
       "      <th></th>\n",
       "      <th>0</th>\n",
       "      <th>1</th>\n",
       "    </tr>\n",
       "  </thead>\n",
       "  <tbody>\n",
       "    <tr>\n",
       "      <th>999995</th>\n",
       "      <td>-8963</td>\n",
       "      <td>-6965</td>\n",
       "    </tr>\n",
       "    <tr>\n",
       "      <th>999996</th>\n",
       "      <td>-8900</td>\n",
       "      <td>-6834</td>\n",
       "    </tr>\n",
       "    <tr>\n",
       "      <th>999997</th>\n",
       "      <td>-8777</td>\n",
       "      <td>-6623</td>\n",
       "    </tr>\n",
       "    <tr>\n",
       "      <th>999998</th>\n",
       "      <td>-8698</td>\n",
       "      <td>-6439</td>\n",
       "    </tr>\n",
       "    <tr>\n",
       "      <th>999999</th>\n",
       "      <td>-8996</td>\n",
       "      <td>-6657</td>\n",
       "    </tr>\n",
       "  </tbody>\n",
       "</table>\n",
       "</div>"
      ],
      "text/plain": [
       "           0     1\n",
       "999995 -8963 -6965\n",
       "999996 -8900 -6834\n",
       "999997 -8777 -6623\n",
       "999998 -8698 -6439\n",
       "999999 -8996 -6657"
      ]
     },
     "execution_count": 7,
     "metadata": {},
     "output_type": "execute_result"
    }
   ],
   "source": [
    "song1pd.tail()"
   ]
  },
  {
   "cell_type": "code",
   "execution_count": 3,
   "metadata": {},
   "outputs": [],
   "source": [
    "#Adding only 1million for every song\n",
    "path=\"F:\\BSU_FAMCS\\Learning_Courses\\musicGenerator\\dataset\\WAV\"\n",
    "time_steps=50\n",
    "song_max_length_train=1500+1"
   ]
  },
  {
   "cell_type": "code",
   "execution_count": 4,
   "metadata": {},
   "outputs": [],
   "source": [
    "Xtrain1,Xtrain2,Ytrain1,Ytrain2=[],[],[],[]\n",
    "\n",
    "for song_name in os.listdir(path):\n",
    "    \n",
    "    rate,song=read(path+'\\\\'+song_name)\n",
    "    \n",
    "    for i in range(0,song_max_length_train,time_steps):\n",
    "        #For the first channel in audio\n",
    "        Xtrain1.append(song[i:i+time_steps,0])\n",
    "        Ytrain1.append(song[i+1:i+1+time_steps,0])\n",
    "        #For the second channel in audio\n",
    "        Xtrain2.append(song[i:i+time_steps,1])\n",
    "        Ytrain2.append(song[i+1:i+1+time_steps,1])\n",
    "        \n",
    "Xtrain1=np.array(Xtrain1)\n",
    "Xtrain2=np.array(Xtrain2)        \n",
    "Ytrain1=np.array(Ytrain1)        \n",
    "Ytrain2=np.array(Ytrain2)        "
   ]
  },
  {
   "cell_type": "code",
   "execution_count": 6,
   "metadata": {},
   "outputs": [],
   "source": [
    "#Reshaping 2D->3D\n",
    "        \n",
    "Xtrain1=Xtrain1.reshape((-1,1,time_steps))\n",
    "Xtrain2=Xtrain2.reshape((-1,time_steps,1))     \n",
    "Ytrain1=Ytrain1.reshape((time_steps,-1,1))\n",
    "Ytrain2=Ytrain2.reshape((time_steps,-1,1))"
   ]
  },
  {
   "cell_type": "code",
   "execution_count": 7,
   "metadata": {},
   "outputs": [
    {
     "name": "stdout",
     "output_type": "stream",
     "text": [
      "930\n"
     ]
    }
   ],
   "source": [
    "m=Xtrain1.shape[0]\n",
    "print(m)"
   ]
  },
  {
   "cell_type": "code",
   "execution_count": 8,
   "metadata": {},
   "outputs": [
    {
     "data": {
      "text/plain": [
       "(50, 930, 1)"
      ]
     },
     "execution_count": 8,
     "metadata": {},
     "output_type": "execute_result"
    }
   ],
   "source": [
    "Ytrain1.shape"
   ]
  },
  {
   "cell_type": "code",
   "execution_count": 9,
   "metadata": {},
   "outputs": [],
   "source": [
    "Xtrain1Ravel=np.ravel(Xtrain1)"
   ]
  },
  {
   "cell_type": "code",
   "execution_count": 10,
   "metadata": {},
   "outputs": [
    {
     "data": {
      "text/plain": [
       "3000"
      ]
     },
     "execution_count": 10,
     "metadata": {},
     "output_type": "execute_result"
    }
   ],
   "source": [
    "unique_notes=len(set(list(Xtrain1Ravel)))\n",
    "unique_notes"
   ]
  },
  {
   "cell_type": "code",
   "execution_count": 11,
   "metadata": {},
   "outputs": [],
   "source": [
    "#Global variables\n",
    "dimension_LSTM=256\n",
    "LSTM_unit=LSTM(dimension_LSTM,return_state=True)\n",
    "reshapor=Reshape((1,1))\n",
    "densor1=Dense(256,activation=\"tanh\")\n",
    "densor2=Dense(128,activation=\"tanh\")\n",
    "densor3=Dense(64,activation=\"linear\")\n",
    "densor4=Dense(1,activation=\"linear\")"
   ]
  },
  {
   "cell_type": "code",
   "execution_count": null,
   "metadata": {},
   "outputs": [],
   "source": []
  },
  {
   "cell_type": "code",
   "execution_count": 12,
   "metadata": {},
   "outputs": [],
   "source": [
    "def get_model():\n",
    "    \n",
    "    X=Input(shape=(time_steps,1))\n",
    "    \n",
    "    a0=Input(shape=(dimension_LSTM,),name=\"a0\")\n",
    "    c0=Input(shape=(dimension_LSTM,),name=\"c0\")\n",
    "    \n",
    "    a=a0\n",
    "    c=c0\n",
    "    outputs=[]\n",
    "    \n",
    "    for t in range(time_steps):\n",
    "        x=Lambda(lambda z: z[:t:])(X)\n",
    "        #x=reshapor(x)\n",
    "        \n",
    "        a,_,c=LSTM_unit(inputs=x,initial_state=[a,c])\n",
    "        \n",
    "        y=densor1(a)\n",
    "        #y=densor2(y)\n",
    "        y=densor3(y)\n",
    "        out=densor4(y)\n",
    "\n",
    "        outputs.append(out)\n",
    "    \n",
    "    model=Model(inputs=[X,a0,c0],outputs=outputs)\n",
    "    return model"
   ]
  },
  {
   "cell_type": "code",
   "execution_count": 13,
   "metadata": {},
   "outputs": [],
   "source": [
    "model_first=get_model()\n"
   ]
  },
  {
   "cell_type": "code",
   "execution_count": 14,
   "metadata": {},
   "outputs": [
    {
     "name": "stdout",
     "output_type": "stream",
     "text": [
      "Model: \"model_1\"\n",
      "__________________________________________________________________________________________________\n",
      "Layer (type)                    Output Shape         Param #     Connected to                     \n",
      "==================================================================================================\n",
      "input_1 (InputLayer)            (None, 50, 1)        0                                            \n",
      "__________________________________________________________________________________________________\n",
      "lambda_1 (Lambda)               (None, 50, 1)        0           input_1[0][0]                    \n",
      "__________________________________________________________________________________________________\n",
      "a0 (InputLayer)                 (None, 256)          0                                            \n",
      "__________________________________________________________________________________________________\n",
      "c0 (InputLayer)                 (None, 256)          0                                            \n",
      "__________________________________________________________________________________________________\n",
      "lstm_1 (LSTM)                   [(None, 256), (None, 264192      lambda_1[0][0]                   \n",
      "                                                                 a0[0][0]                         \n",
      "                                                                 c0[0][0]                         \n",
      "                                                                 lambda_2[0][0]                   \n",
      "                                                                 lstm_1[0][0]                     \n",
      "                                                                 lstm_1[0][2]                     \n",
      "                                                                 lambda_3[0][0]                   \n",
      "                                                                 lstm_1[1][0]                     \n",
      "                                                                 lstm_1[1][2]                     \n",
      "                                                                 lambda_4[0][0]                   \n",
      "                                                                 lstm_1[2][0]                     \n",
      "                                                                 lstm_1[2][2]                     \n",
      "                                                                 lambda_5[0][0]                   \n",
      "                                                                 lstm_1[3][0]                     \n",
      "                                                                 lstm_1[3][2]                     \n",
      "                                                                 lambda_6[0][0]                   \n",
      "                                                                 lstm_1[4][0]                     \n",
      "                                                                 lstm_1[4][2]                     \n",
      "                                                                 lambda_7[0][0]                   \n",
      "                                                                 lstm_1[5][0]                     \n",
      "                                                                 lstm_1[5][2]                     \n",
      "                                                                 lambda_8[0][0]                   \n",
      "                                                                 lstm_1[6][0]                     \n",
      "                                                                 lstm_1[6][2]                     \n",
      "                                                                 lambda_9[0][0]                   \n",
      "                                                                 lstm_1[7][0]                     \n",
      "                                                                 lstm_1[7][2]                     \n",
      "                                                                 lambda_10[0][0]                  \n",
      "                                                                 lstm_1[8][0]                     \n",
      "                                                                 lstm_1[8][2]                     \n",
      "                                                                 lambda_11[0][0]                  \n",
      "                                                                 lstm_1[9][0]                     \n",
      "                                                                 lstm_1[9][2]                     \n",
      "                                                                 lambda_12[0][0]                  \n",
      "                                                                 lstm_1[10][0]                    \n",
      "                                                                 lstm_1[10][2]                    \n",
      "                                                                 lambda_13[0][0]                  \n",
      "                                                                 lstm_1[11][0]                    \n",
      "                                                                 lstm_1[11][2]                    \n",
      "                                                                 lambda_14[0][0]                  \n",
      "                                                                 lstm_1[12][0]                    \n",
      "                                                                 lstm_1[12][2]                    \n",
      "                                                                 lambda_15[0][0]                  \n",
      "                                                                 lstm_1[13][0]                    \n",
      "                                                                 lstm_1[13][2]                    \n",
      "                                                                 lambda_16[0][0]                  \n",
      "                                                                 lstm_1[14][0]                    \n",
      "                                                                 lstm_1[14][2]                    \n",
      "                                                                 lambda_17[0][0]                  \n",
      "                                                                 lstm_1[15][0]                    \n",
      "                                                                 lstm_1[15][2]                    \n",
      "                                                                 lambda_18[0][0]                  \n",
      "                                                                 lstm_1[16][0]                    \n",
      "                                                                 lstm_1[16][2]                    \n",
      "                                                                 lambda_19[0][0]                  \n",
      "                                                                 lstm_1[17][0]                    \n",
      "                                                                 lstm_1[17][2]                    \n",
      "                                                                 lambda_20[0][0]                  \n",
      "                                                                 lstm_1[18][0]                    \n",
      "                                                                 lstm_1[18][2]                    \n",
      "                                                                 lambda_21[0][0]                  \n",
      "                                                                 lstm_1[19][0]                    \n",
      "                                                                 lstm_1[19][2]                    \n",
      "                                                                 lambda_22[0][0]                  \n",
      "                                                                 lstm_1[20][0]                    \n",
      "                                                                 lstm_1[20][2]                    \n",
      "                                                                 lambda_23[0][0]                  \n",
      "                                                                 lstm_1[21][0]                    \n",
      "                                                                 lstm_1[21][2]                    \n",
      "                                                                 lambda_24[0][0]                  \n",
      "                                                                 lstm_1[22][0]                    \n",
      "                                                                 lstm_1[22][2]                    \n",
      "                                                                 lambda_25[0][0]                  \n",
      "                                                                 lstm_1[23][0]                    \n",
      "                                                                 lstm_1[23][2]                    \n",
      "                                                                 lambda_26[0][0]                  \n",
      "                                                                 lstm_1[24][0]                    \n",
      "                                                                 lstm_1[24][2]                    \n",
      "                                                                 lambda_27[0][0]                  \n",
      "                                                                 lstm_1[25][0]                    \n",
      "                                                                 lstm_1[25][2]                    \n",
      "                                                                 lambda_28[0][0]                  \n",
      "                                                                 lstm_1[26][0]                    \n",
      "                                                                 lstm_1[26][2]                    \n",
      "                                                                 lambda_29[0][0]                  \n",
      "                                                                 lstm_1[27][0]                    \n",
      "                                                                 lstm_1[27][2]                    \n",
      "                                                                 lambda_30[0][0]                  \n",
      "                                                                 lstm_1[28][0]                    \n",
      "                                                                 lstm_1[28][2]                    \n",
      "                                                                 lambda_31[0][0]                  \n",
      "                                                                 lstm_1[29][0]                    \n",
      "                                                                 lstm_1[29][2]                    \n",
      "                                                                 lambda_32[0][0]                  \n",
      "                                                                 lstm_1[30][0]                    \n",
      "                                                                 lstm_1[30][2]                    \n",
      "                                                                 lambda_33[0][0]                  \n",
      "                                                                 lstm_1[31][0]                    \n",
      "                                                                 lstm_1[31][2]                    \n",
      "                                                                 lambda_34[0][0]                  \n",
      "                                                                 lstm_1[32][0]                    \n",
      "                                                                 lstm_1[32][2]                    \n",
      "                                                                 lambda_35[0][0]                  \n",
      "                                                                 lstm_1[33][0]                    \n",
      "                                                                 lstm_1[33][2]                    \n",
      "                                                                 lambda_36[0][0]                  \n",
      "                                                                 lstm_1[34][0]                    \n",
      "                                                                 lstm_1[34][2]                    \n",
      "                                                                 lambda_37[0][0]                  \n",
      "                                                                 lstm_1[35][0]                    \n",
      "                                                                 lstm_1[35][2]                    \n",
      "                                                                 lambda_38[0][0]                  \n",
      "                                                                 lstm_1[36][0]                    \n",
      "                                                                 lstm_1[36][2]                    \n",
      "                                                                 lambda_39[0][0]                  \n",
      "                                                                 lstm_1[37][0]                    \n",
      "                                                                 lstm_1[37][2]                    \n",
      "                                                                 lambda_40[0][0]                  \n",
      "                                                                 lstm_1[38][0]                    \n",
      "                                                                 lstm_1[38][2]                    \n",
      "                                                                 lambda_41[0][0]                  \n",
      "                                                                 lstm_1[39][0]                    \n",
      "                                                                 lstm_1[39][2]                    \n",
      "                                                                 lambda_42[0][0]                  \n",
      "                                                                 lstm_1[40][0]                    \n",
      "                                                                 lstm_1[40][2]                    \n",
      "                                                                 lambda_43[0][0]                  \n",
      "                                                                 lstm_1[41][0]                    \n",
      "                                                                 lstm_1[41][2]                    \n",
      "                                                                 lambda_44[0][0]                  \n",
      "                                                                 lstm_1[42][0]                    \n",
      "                                                                 lstm_1[42][2]                    \n",
      "                                                                 lambda_45[0][0]                  \n",
      "                                                                 lstm_1[43][0]                    \n",
      "                                                                 lstm_1[43][2]                    \n",
      "                                                                 lambda_46[0][0]                  \n",
      "                                                                 lstm_1[44][0]                    \n",
      "                                                                 lstm_1[44][2]                    \n",
      "                                                                 lambda_47[0][0]                  \n",
      "                                                                 lstm_1[45][0]                    \n",
      "                                                                 lstm_1[45][2]                    \n",
      "                                                                 lambda_48[0][0]                  \n",
      "                                                                 lstm_1[46][0]                    \n",
      "                                                                 lstm_1[46][2]                    \n",
      "                                                                 lambda_49[0][0]                  \n",
      "                                                                 lstm_1[47][0]                    \n",
      "                                                                 lstm_1[47][2]                    \n",
      "                                                                 lambda_50[0][0]                  \n",
      "                                                                 lstm_1[48][0]                    \n",
      "                                                                 lstm_1[48][2]                    \n",
      "__________________________________________________________________________________________________\n",
      "lambda_2 (Lambda)               (None, 50, 1)        0           input_1[0][0]                    \n",
      "__________________________________________________________________________________________________\n",
      "lambda_3 (Lambda)               (None, 50, 1)        0           input_1[0][0]                    \n",
      "__________________________________________________________________________________________________\n",
      "lambda_4 (Lambda)               (None, 50, 1)        0           input_1[0][0]                    \n",
      "__________________________________________________________________________________________________\n",
      "lambda_5 (Lambda)               (None, 50, 1)        0           input_1[0][0]                    \n",
      "__________________________________________________________________________________________________\n",
      "lambda_6 (Lambda)               (None, 50, 1)        0           input_1[0][0]                    \n",
      "__________________________________________________________________________________________________\n",
      "lambda_7 (Lambda)               (None, 50, 1)        0           input_1[0][0]                    \n",
      "__________________________________________________________________________________________________\n",
      "lambda_8 (Lambda)               (None, 50, 1)        0           input_1[0][0]                    \n",
      "__________________________________________________________________________________________________\n",
      "lambda_9 (Lambda)               (None, 50, 1)        0           input_1[0][0]                    \n",
      "__________________________________________________________________________________________________\n",
      "lambda_10 (Lambda)              (None, 50, 1)        0           input_1[0][0]                    \n",
      "__________________________________________________________________________________________________\n",
      "lambda_11 (Lambda)              (None, 50, 1)        0           input_1[0][0]                    \n",
      "__________________________________________________________________________________________________\n",
      "lambda_12 (Lambda)              (None, 50, 1)        0           input_1[0][0]                    \n",
      "__________________________________________________________________________________________________\n",
      "lambda_13 (Lambda)              (None, 50, 1)        0           input_1[0][0]                    \n",
      "__________________________________________________________________________________________________\n",
      "lambda_14 (Lambda)              (None, 50, 1)        0           input_1[0][0]                    \n",
      "__________________________________________________________________________________________________\n",
      "lambda_15 (Lambda)              (None, 50, 1)        0           input_1[0][0]                    \n",
      "__________________________________________________________________________________________________\n",
      "lambda_16 (Lambda)              (None, 50, 1)        0           input_1[0][0]                    \n",
      "__________________________________________________________________________________________________\n",
      "lambda_17 (Lambda)              (None, 50, 1)        0           input_1[0][0]                    \n",
      "__________________________________________________________________________________________________\n",
      "lambda_18 (Lambda)              (None, 50, 1)        0           input_1[0][0]                    \n",
      "__________________________________________________________________________________________________\n",
      "lambda_19 (Lambda)              (None, 50, 1)        0           input_1[0][0]                    \n",
      "__________________________________________________________________________________________________\n",
      "lambda_20 (Lambda)              (None, 50, 1)        0           input_1[0][0]                    \n",
      "__________________________________________________________________________________________________\n",
      "lambda_21 (Lambda)              (None, 50, 1)        0           input_1[0][0]                    \n",
      "__________________________________________________________________________________________________\n",
      "lambda_22 (Lambda)              (None, 50, 1)        0           input_1[0][0]                    \n",
      "__________________________________________________________________________________________________\n",
      "lambda_23 (Lambda)              (None, 50, 1)        0           input_1[0][0]                    \n",
      "__________________________________________________________________________________________________\n",
      "lambda_24 (Lambda)              (None, 50, 1)        0           input_1[0][0]                    \n",
      "__________________________________________________________________________________________________\n",
      "lambda_25 (Lambda)              (None, 50, 1)        0           input_1[0][0]                    \n",
      "__________________________________________________________________________________________________\n",
      "lambda_26 (Lambda)              (None, 50, 1)        0           input_1[0][0]                    \n",
      "__________________________________________________________________________________________________\n",
      "lambda_27 (Lambda)              (None, 50, 1)        0           input_1[0][0]                    \n",
      "__________________________________________________________________________________________________\n",
      "lambda_28 (Lambda)              (None, 50, 1)        0           input_1[0][0]                    \n",
      "__________________________________________________________________________________________________\n",
      "lambda_29 (Lambda)              (None, 50, 1)        0           input_1[0][0]                    \n",
      "__________________________________________________________________________________________________\n",
      "lambda_30 (Lambda)              (None, 50, 1)        0           input_1[0][0]                    \n",
      "__________________________________________________________________________________________________\n",
      "lambda_31 (Lambda)              (None, 50, 1)        0           input_1[0][0]                    \n",
      "__________________________________________________________________________________________________\n",
      "lambda_32 (Lambda)              (None, 50, 1)        0           input_1[0][0]                    \n",
      "__________________________________________________________________________________________________\n",
      "lambda_33 (Lambda)              (None, 50, 1)        0           input_1[0][0]                    \n",
      "__________________________________________________________________________________________________\n",
      "lambda_34 (Lambda)              (None, 50, 1)        0           input_1[0][0]                    \n",
      "__________________________________________________________________________________________________\n",
      "lambda_35 (Lambda)              (None, 50, 1)        0           input_1[0][0]                    \n",
      "__________________________________________________________________________________________________\n",
      "lambda_36 (Lambda)              (None, 50, 1)        0           input_1[0][0]                    \n",
      "__________________________________________________________________________________________________\n",
      "lambda_37 (Lambda)              (None, 50, 1)        0           input_1[0][0]                    \n",
      "__________________________________________________________________________________________________\n",
      "lambda_38 (Lambda)              (None, 50, 1)        0           input_1[0][0]                    \n",
      "__________________________________________________________________________________________________\n",
      "lambda_39 (Lambda)              (None, 50, 1)        0           input_1[0][0]                    \n",
      "__________________________________________________________________________________________________\n",
      "lambda_40 (Lambda)              (None, 50, 1)        0           input_1[0][0]                    \n",
      "__________________________________________________________________________________________________\n",
      "lambda_41 (Lambda)              (None, 50, 1)        0           input_1[0][0]                    \n",
      "__________________________________________________________________________________________________\n",
      "lambda_42 (Lambda)              (None, 50, 1)        0           input_1[0][0]                    \n",
      "__________________________________________________________________________________________________\n",
      "lambda_43 (Lambda)              (None, 50, 1)        0           input_1[0][0]                    \n",
      "__________________________________________________________________________________________________\n",
      "lambda_44 (Lambda)              (None, 50, 1)        0           input_1[0][0]                    \n",
      "__________________________________________________________________________________________________\n",
      "lambda_45 (Lambda)              (None, 50, 1)        0           input_1[0][0]                    \n",
      "__________________________________________________________________________________________________\n",
      "lambda_46 (Lambda)              (None, 50, 1)        0           input_1[0][0]                    \n",
      "__________________________________________________________________________________________________\n",
      "lambda_47 (Lambda)              (None, 50, 1)        0           input_1[0][0]                    \n",
      "__________________________________________________________________________________________________\n",
      "lambda_48 (Lambda)              (None, 50, 1)        0           input_1[0][0]                    \n",
      "__________________________________________________________________________________________________\n",
      "lambda_49 (Lambda)              (None, 50, 1)        0           input_1[0][0]                    \n",
      "__________________________________________________________________________________________________\n",
      "lambda_50 (Lambda)              (None, 50, 1)        0           input_1[0][0]                    \n",
      "__________________________________________________________________________________________________\n",
      "dense_1 (Dense)                 (None, 256)          65792       lstm_1[0][0]                     \n",
      "                                                                 lstm_1[1][0]                     \n",
      "                                                                 lstm_1[2][0]                     \n",
      "                                                                 lstm_1[3][0]                     \n",
      "                                                                 lstm_1[4][0]                     \n",
      "                                                                 lstm_1[5][0]                     \n",
      "                                                                 lstm_1[6][0]                     \n",
      "                                                                 lstm_1[7][0]                     \n",
      "                                                                 lstm_1[8][0]                     \n",
      "                                                                 lstm_1[9][0]                     \n",
      "                                                                 lstm_1[10][0]                    \n",
      "                                                                 lstm_1[11][0]                    \n",
      "                                                                 lstm_1[12][0]                    \n",
      "                                                                 lstm_1[13][0]                    \n",
      "                                                                 lstm_1[14][0]                    \n",
      "                                                                 lstm_1[15][0]                    \n",
      "                                                                 lstm_1[16][0]                    \n",
      "                                                                 lstm_1[17][0]                    \n",
      "                                                                 lstm_1[18][0]                    \n",
      "                                                                 lstm_1[19][0]                    \n",
      "                                                                 lstm_1[20][0]                    \n",
      "                                                                 lstm_1[21][0]                    \n",
      "                                                                 lstm_1[22][0]                    \n",
      "                                                                 lstm_1[23][0]                    \n",
      "                                                                 lstm_1[24][0]                    \n",
      "                                                                 lstm_1[25][0]                    \n",
      "                                                                 lstm_1[26][0]                    \n",
      "                                                                 lstm_1[27][0]                    \n",
      "                                                                 lstm_1[28][0]                    \n",
      "                                                                 lstm_1[29][0]                    \n",
      "                                                                 lstm_1[30][0]                    \n",
      "                                                                 lstm_1[31][0]                    \n",
      "                                                                 lstm_1[32][0]                    \n",
      "                                                                 lstm_1[33][0]                    \n",
      "                                                                 lstm_1[34][0]                    \n",
      "                                                                 lstm_1[35][0]                    \n",
      "                                                                 lstm_1[36][0]                    \n",
      "                                                                 lstm_1[37][0]                    \n",
      "                                                                 lstm_1[38][0]                    \n",
      "                                                                 lstm_1[39][0]                    \n",
      "                                                                 lstm_1[40][0]                    \n",
      "                                                                 lstm_1[41][0]                    \n",
      "                                                                 lstm_1[42][0]                    \n",
      "                                                                 lstm_1[43][0]                    \n",
      "                                                                 lstm_1[44][0]                    \n",
      "                                                                 lstm_1[45][0]                    \n",
      "                                                                 lstm_1[46][0]                    \n",
      "                                                                 lstm_1[47][0]                    \n",
      "                                                                 lstm_1[48][0]                    \n",
      "                                                                 lstm_1[49][0]                    \n",
      "__________________________________________________________________________________________________\n",
      "dense_3 (Dense)                 (None, 64)           16448       dense_1[0][0]                    \n",
      "                                                                 dense_1[1][0]                    \n",
      "                                                                 dense_1[2][0]                    \n",
      "                                                                 dense_1[3][0]                    \n",
      "                                                                 dense_1[4][0]                    \n",
      "                                                                 dense_1[5][0]                    \n",
      "                                                                 dense_1[6][0]                    \n",
      "                                                                 dense_1[7][0]                    \n",
      "                                                                 dense_1[8][0]                    \n",
      "                                                                 dense_1[9][0]                    \n",
      "                                                                 dense_1[10][0]                   \n",
      "                                                                 dense_1[11][0]                   \n",
      "                                                                 dense_1[12][0]                   \n",
      "                                                                 dense_1[13][0]                   \n",
      "                                                                 dense_1[14][0]                   \n",
      "                                                                 dense_1[15][0]                   \n",
      "                                                                 dense_1[16][0]                   \n",
      "                                                                 dense_1[17][0]                   \n",
      "                                                                 dense_1[18][0]                   \n",
      "                                                                 dense_1[19][0]                   \n",
      "                                                                 dense_1[20][0]                   \n",
      "                                                                 dense_1[21][0]                   \n",
      "                                                                 dense_1[22][0]                   \n",
      "                                                                 dense_1[23][0]                   \n",
      "                                                                 dense_1[24][0]                   \n",
      "                                                                 dense_1[25][0]                   \n",
      "                                                                 dense_1[26][0]                   \n",
      "                                                                 dense_1[27][0]                   \n",
      "                                                                 dense_1[28][0]                   \n",
      "                                                                 dense_1[29][0]                   \n",
      "                                                                 dense_1[30][0]                   \n",
      "                                                                 dense_1[31][0]                   \n",
      "                                                                 dense_1[32][0]                   \n",
      "                                                                 dense_1[33][0]                   \n",
      "                                                                 dense_1[34][0]                   \n",
      "                                                                 dense_1[35][0]                   \n",
      "                                                                 dense_1[36][0]                   \n",
      "                                                                 dense_1[37][0]                   \n",
      "                                                                 dense_1[38][0]                   \n",
      "                                                                 dense_1[39][0]                   \n",
      "                                                                 dense_1[40][0]                   \n",
      "                                                                 dense_1[41][0]                   \n",
      "                                                                 dense_1[42][0]                   \n",
      "                                                                 dense_1[43][0]                   \n",
      "                                                                 dense_1[44][0]                   \n",
      "                                                                 dense_1[45][0]                   \n",
      "                                                                 dense_1[46][0]                   \n",
      "                                                                 dense_1[47][0]                   \n",
      "                                                                 dense_1[48][0]                   \n",
      "                                                                 dense_1[49][0]                   \n",
      "__________________________________________________________________________________________________\n",
      "dense_4 (Dense)                 (None, 1)            65          dense_3[0][0]                    \n",
      "                                                                 dense_3[1][0]                    \n",
      "                                                                 dense_3[2][0]                    \n",
      "                                                                 dense_3[3][0]                    \n",
      "                                                                 dense_3[4][0]                    \n",
      "                                                                 dense_3[5][0]                    \n",
      "                                                                 dense_3[6][0]                    \n",
      "                                                                 dense_3[7][0]                    \n",
      "                                                                 dense_3[8][0]                    \n",
      "                                                                 dense_3[9][0]                    \n",
      "                                                                 dense_3[10][0]                   \n",
      "                                                                 dense_3[11][0]                   \n",
      "                                                                 dense_3[12][0]                   \n",
      "                                                                 dense_3[13][0]                   \n",
      "                                                                 dense_3[14][0]                   \n",
      "                                                                 dense_3[15][0]                   \n",
      "                                                                 dense_3[16][0]                   \n",
      "                                                                 dense_3[17][0]                   \n",
      "                                                                 dense_3[18][0]                   \n",
      "                                                                 dense_3[19][0]                   \n",
      "                                                                 dense_3[20][0]                   \n",
      "                                                                 dense_3[21][0]                   \n",
      "                                                                 dense_3[22][0]                   \n",
      "                                                                 dense_3[23][0]                   \n",
      "                                                                 dense_3[24][0]                   \n",
      "                                                                 dense_3[25][0]                   \n",
      "                                                                 dense_3[26][0]                   \n",
      "                                                                 dense_3[27][0]                   \n",
      "                                                                 dense_3[28][0]                   \n",
      "                                                                 dense_3[29][0]                   \n",
      "                                                                 dense_3[30][0]                   \n",
      "                                                                 dense_3[31][0]                   \n",
      "                                                                 dense_3[32][0]                   \n",
      "                                                                 dense_3[33][0]                   \n",
      "                                                                 dense_3[34][0]                   \n",
      "                                                                 dense_3[35][0]                   \n",
      "                                                                 dense_3[36][0]                   \n",
      "                                                                 dense_3[37][0]                   \n",
      "                                                                 dense_3[38][0]                   \n",
      "                                                                 dense_3[39][0]                   \n",
      "                                                                 dense_3[40][0]                   \n",
      "                                                                 dense_3[41][0]                   \n",
      "                                                                 dense_3[42][0]                   \n",
      "                                                                 dense_3[43][0]                   \n",
      "                                                                 dense_3[44][0]                   \n",
      "                                                                 dense_3[45][0]                   \n",
      "                                                                 dense_3[46][0]                   \n",
      "                                                                 dense_3[47][0]                   \n",
      "                                                                 dense_3[48][0]                   \n",
      "                                                                 dense_3[49][0]                   \n",
      "==================================================================================================\n",
      "Total params: 346,497\n",
      "Trainable params: 346,497\n",
      "Non-trainable params: 0\n",
      "__________________________________________________________________________________________________\n"
     ]
    }
   ],
   "source": [
    "model_first.summary()"
   ]
  },
  {
   "cell_type": "code",
   "execution_count": 17,
   "metadata": {},
   "outputs": [],
   "source": [
    "model_first.compile(optimizer=\"adam\",loss=\"mean_absolute_error\",metrics=[\"accuracy\"])"
   ]
  },
  {
   "cell_type": "code",
   "execution_count": 18,
   "metadata": {},
   "outputs": [],
   "source": [
    "batch_size=64\n",
    "a0=np.zeros((m,dimension_LSTM))\n",
    "c0=np.zeros((m,dimension_LSTM))"
   ]
  },
  {
   "cell_type": "code",
   "execution_count": 19,
   "metadata": {},
   "outputs": [
    {
     "ename": "ValueError",
     "evalue": "Error when checking input: expected input_1 to have shape (50, 1) but got array with shape (1, 50)",
     "output_type": "error",
     "traceback": [
      "\u001b[1;31m---------------------------------------------------------------------------\u001b[0m",
      "\u001b[1;31mValueError\u001b[0m                                Traceback (most recent call last)",
      "\u001b[1;32m<ipython-input-19-3b0d9253ec80>\u001b[0m in \u001b[0;36m<module>\u001b[1;34m\u001b[0m\n\u001b[1;32m----> 1\u001b[1;33m \u001b[0mhistory\u001b[0m\u001b[1;33m=\u001b[0m\u001b[0mmodel_first\u001b[0m\u001b[1;33m.\u001b[0m\u001b[0mfit\u001b[0m\u001b[1;33m(\u001b[0m\u001b[1;33m[\u001b[0m\u001b[0mXtrain1\u001b[0m\u001b[1;33m,\u001b[0m\u001b[0ma0\u001b[0m\u001b[1;33m,\u001b[0m\u001b[0mc0\u001b[0m\u001b[1;33m]\u001b[0m\u001b[1;33m,\u001b[0m\u001b[0mlist\u001b[0m\u001b[1;33m(\u001b[0m\u001b[0mYtrain1\u001b[0m\u001b[1;33m)\u001b[0m\u001b[1;33m,\u001b[0m\u001b[0mepochs\u001b[0m\u001b[1;33m=\u001b[0m\u001b[1;36m5\u001b[0m\u001b[1;33m,\u001b[0m\u001b[0mbatch_size\u001b[0m\u001b[1;33m=\u001b[0m\u001b[0mbatch_size\u001b[0m\u001b[1;33m)\u001b[0m\u001b[1;33m\u001b[0m\u001b[1;33m\u001b[0m\u001b[0m\n\u001b[0m",
      "\u001b[1;32mc:\\python\\lib\\site-packages\\keras\\engine\\training.py\u001b[0m in \u001b[0;36mfit\u001b[1;34m(self, x, y, batch_size, epochs, verbose, callbacks, validation_split, validation_data, shuffle, class_weight, sample_weight, initial_epoch, steps_per_epoch, validation_steps, validation_freq, max_queue_size, workers, use_multiprocessing, **kwargs)\u001b[0m\n\u001b[0;32m   1152\u001b[0m             \u001b[0msample_weight\u001b[0m\u001b[1;33m=\u001b[0m\u001b[0msample_weight\u001b[0m\u001b[1;33m,\u001b[0m\u001b[1;33m\u001b[0m\u001b[1;33m\u001b[0m\u001b[0m\n\u001b[0;32m   1153\u001b[0m             \u001b[0mclass_weight\u001b[0m\u001b[1;33m=\u001b[0m\u001b[0mclass_weight\u001b[0m\u001b[1;33m,\u001b[0m\u001b[1;33m\u001b[0m\u001b[1;33m\u001b[0m\u001b[0m\n\u001b[1;32m-> 1154\u001b[1;33m             batch_size=batch_size)\n\u001b[0m\u001b[0;32m   1155\u001b[0m \u001b[1;33m\u001b[0m\u001b[0m\n\u001b[0;32m   1156\u001b[0m         \u001b[1;31m# Prepare validation data.\u001b[0m\u001b[1;33m\u001b[0m\u001b[1;33m\u001b[0m\u001b[1;33m\u001b[0m\u001b[0m\n",
      "\u001b[1;32mc:\\python\\lib\\site-packages\\keras\\engine\\training.py\u001b[0m in \u001b[0;36m_standardize_user_data\u001b[1;34m(self, x, y, sample_weight, class_weight, check_array_lengths, batch_size)\u001b[0m\n\u001b[0;32m    577\u001b[0m             \u001b[0mfeed_input_shapes\u001b[0m\u001b[1;33m,\u001b[0m\u001b[1;33m\u001b[0m\u001b[1;33m\u001b[0m\u001b[0m\n\u001b[0;32m    578\u001b[0m             \u001b[0mcheck_batch_axis\u001b[0m\u001b[1;33m=\u001b[0m\u001b[1;32mFalse\u001b[0m\u001b[1;33m,\u001b[0m  \u001b[1;31m# Don't enforce the batch size.\u001b[0m\u001b[1;33m\u001b[0m\u001b[1;33m\u001b[0m\u001b[0m\n\u001b[1;32m--> 579\u001b[1;33m             exception_prefix='input')\n\u001b[0m\u001b[0;32m    580\u001b[0m \u001b[1;33m\u001b[0m\u001b[0m\n\u001b[0;32m    581\u001b[0m         \u001b[1;32mif\u001b[0m \u001b[0my\u001b[0m \u001b[1;32mis\u001b[0m \u001b[1;32mnot\u001b[0m \u001b[1;32mNone\u001b[0m\u001b[1;33m:\u001b[0m\u001b[1;33m\u001b[0m\u001b[1;33m\u001b[0m\u001b[0m\n",
      "\u001b[1;32mc:\\python\\lib\\site-packages\\keras\\engine\\training_utils.py\u001b[0m in \u001b[0;36mstandardize_input_data\u001b[1;34m(data, names, shapes, check_batch_axis, exception_prefix)\u001b[0m\n\u001b[0;32m    143\u001b[0m                             \u001b[1;34m': expected '\u001b[0m \u001b[1;33m+\u001b[0m \u001b[0mnames\u001b[0m\u001b[1;33m[\u001b[0m\u001b[0mi\u001b[0m\u001b[1;33m]\u001b[0m \u001b[1;33m+\u001b[0m \u001b[1;34m' to have shape '\u001b[0m \u001b[1;33m+\u001b[0m\u001b[1;33m\u001b[0m\u001b[1;33m\u001b[0m\u001b[0m\n\u001b[0;32m    144\u001b[0m                             \u001b[0mstr\u001b[0m\u001b[1;33m(\u001b[0m\u001b[0mshape\u001b[0m\u001b[1;33m)\u001b[0m \u001b[1;33m+\u001b[0m \u001b[1;34m' but got array with shape '\u001b[0m \u001b[1;33m+\u001b[0m\u001b[1;33m\u001b[0m\u001b[1;33m\u001b[0m\u001b[0m\n\u001b[1;32m--> 145\u001b[1;33m                             str(data_shape))\n\u001b[0m\u001b[0;32m    146\u001b[0m     \u001b[1;32mreturn\u001b[0m \u001b[0mdata\u001b[0m\u001b[1;33m\u001b[0m\u001b[1;33m\u001b[0m\u001b[0m\n\u001b[0;32m    147\u001b[0m \u001b[1;33m\u001b[0m\u001b[0m\n",
      "\u001b[1;31mValueError\u001b[0m: Error when checking input: expected input_1 to have shape (50, 1) but got array with shape (1, 50)"
     ]
    }
   ],
   "source": [
    "history=model_first.fit([Xtrain1,a0,c0],list(Ytrain1),epochs=5,batch_size=batch_size)"
   ]
  },
  {
   "cell_type": "code",
   "execution_count": 21,
   "metadata": {},
   "outputs": [
    {
     "ename": "NameError",
     "evalue": "name 'history' is not defined",
     "output_type": "error",
     "traceback": [
      "\u001b[1;31m---------------------------------------------------------------------------\u001b[0m",
      "\u001b[1;31mNameError\u001b[0m                                 Traceback (most recent call last)",
      "\u001b[1;32m<ipython-input-21-0b220396248c>\u001b[0m in \u001b[0;36m<module>\u001b[1;34m\u001b[0m\n\u001b[1;32m----> 1\u001b[1;33m \u001b[0mprint\u001b[0m\u001b[1;33m(\u001b[0m\u001b[0mhistory\u001b[0m\u001b[1;33m)\u001b[0m\u001b[1;33m\u001b[0m\u001b[1;33m\u001b[0m\u001b[0m\n\u001b[0m",
      "\u001b[1;31mNameError\u001b[0m: name 'history' is not defined"
     ]
    }
   ],
   "source": [
    "print(history)"
   ]
  },
  {
   "cell_type": "code",
   "execution_count": null,
   "metadata": {},
   "outputs": [],
   "source": []
  },
  {
   "cell_type": "code",
   "execution_count": null,
   "metadata": {},
   "outputs": [],
   "source": []
  },
  {
   "cell_type": "code",
   "execution_count": null,
   "metadata": {},
   "outputs": [],
   "source": []
  },
  {
   "cell_type": "code",
   "execution_count": null,
   "metadata": {},
   "outputs": [],
   "source": []
  },
  {
   "cell_type": "markdown",
   "metadata": {},
   "source": [
    "#Model 1 for the first channel\n",
    "model1=Sequential()\n",
    "model1.add(InputLayer(input_shape=(time_steps,1)))\n",
    "model1.add(LSTM(units=256,activation=\"tanh\"))\n",
    "model1.add(Dense(units=256,activation=\"tanh\"))\n",
    "model1.add(Dense(units=128,activation=\"tanh\"))\n",
    "model1.add(Reshape((128,-1)))\n",
    "model1.add(Dense(units=time_steps,activation=\"sigmoid\"))"
   ]
  },
  {
   "cell_type": "markdown",
   "metadata": {},
   "source": [
    "model1.summary()"
   ]
  },
  {
   "cell_type": "markdown",
   "metadata": {},
   "source": [
    "model1.compile(optimizer=\"adam\",loss=\"mean_squared_error\",metrics=[\"accuracy\"])"
   ]
  },
  {
   "cell_type": "markdown",
   "metadata": {},
   "source": [
    "model1.fit(Xtrain1,Ytrain1,epochs=10,batch_size=1)"
   ]
  },
  {
   "cell_type": "code",
   "execution_count": null,
   "metadata": {},
   "outputs": [],
   "source": []
  },
  {
   "cell_type": "code",
   "execution_count": null,
   "metadata": {},
   "outputs": [],
   "source": []
  },
  {
   "cell_type": "markdown",
   "metadata": {},
   "source": [
    "## Librosa audio displaying"
   ]
  },
  {
   "cell_type": "code",
   "execution_count": null,
   "metadata": {},
   "outputs": [],
   "source": [
    "song2,sr=librosa.load(\"F:\\BSU_FAMCS\\Learning_Courses\\musicGenerator\\dataset\\WAV\\Billie Eilish - bury a friend_(mp3type.ru).wav\")"
   ]
  },
  {
   "cell_type": "code",
   "execution_count": null,
   "metadata": {},
   "outputs": [],
   "source": [
    "print(song2.shape)"
   ]
  },
  {
   "cell_type": "code",
   "execution_count": null,
   "metadata": {},
   "outputs": [],
   "source": [
    "sr"
   ]
  },
  {
   "cell_type": "code",
   "execution_count": null,
   "metadata": {},
   "outputs": [],
   "source": [
    "plt.figure(figsize=(13,5))\n",
    "librosa.display.waveplot(song2[:500000],sr=sr)"
   ]
  },
  {
   "cell_type": "code",
   "execution_count": null,
   "metadata": {},
   "outputs": [],
   "source": [
    "#Spectrogramme\n",
    "X=librosa.stft(song2)\n",
    "Xdb=librosa.amplitude_to_db(abs(X))\n",
    "plt.figure(figsize=(13,5))\n",
    "librosa.display.specshow(Xdb,sr=sr,x_axis=\"time\",y_axis=\"hz\")"
   ]
  },
  {
   "cell_type": "code",
   "execution_count": null,
   "metadata": {},
   "outputs": [],
   "source": [
    "#Playing music\n",
    "ipd.Audio(\"F:\\BSU_FAMCS\\Learning_Courses\\musicGenerator\\dataset\\WAV\\Billie Eilish - bury a friend_(mp3type.ru).wav\")"
   ]
  },
  {
   "cell_type": "code",
   "execution_count": null,
   "metadata": {},
   "outputs": [],
   "source": []
  },
  {
   "cell_type": "code",
   "execution_count": null,
   "metadata": {},
   "outputs": [],
   "source": []
  }
 ],
 "metadata": {
  "kernelspec": {
   "display_name": "Python 3",
   "language": "python",
   "name": "python3"
  },
  "language_info": {
   "codemirror_mode": {
    "name": "ipython",
    "version": 3
   },
   "file_extension": ".py",
   "mimetype": "text/x-python",
   "name": "python",
   "nbconvert_exporter": "python",
   "pygments_lexer": "ipython3",
   "version": "3.7.4"
  }
 },
 "nbformat": 4,
 "nbformat_minor": 2
}
